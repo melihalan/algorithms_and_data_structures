{
 "cells": [
  {
   "cell_type": "markdown",
   "metadata": {},
   "source": [
    "# Practice Interview\n",
    "\n",
    "## Objective\n",
    "\n",
    "_*The partner assignment aims to provide participants with the opportunity to practice coding in an interview context. You will analyze your partner's Assignment 1. Moreover, code reviews are common practice in a software development team. This assignment should give you a taste of the code review process.*_\n",
    "\n",
    "## Group Size\n",
    "\n",
    "Each group should have 2 people. You will be assigned a partner\n",
    "\n",
    "## Part 1:\n",
    "\n",
    "You and your partner must share each other's Assignment 1 submission."
   ]
  },
  {
   "cell_type": "markdown",
   "metadata": {},
   "source": [
    "\n",
    "## Part 2:\n",
    "\n",
    "Create a Jupyter Notebook, create 6 of the following headings, and complete the following for your partner's assignment 1:\n",
    "\n",
    "-   Paraphrase the problem in your own words.\n"
   ]
  },
  {
   "cell_type": "markdown",
   "metadata": {},
   "source": [
    "Determine if a binary tree has any repeated values starting from the root node. Return the first repeated value found that is nearest to the root if duplicates exist. If multiple duplicates are present, choose the one closest to the root. Return -1 if the tree has no duplicates."
   ]
  },
  {
   "cell_type": "markdown",
   "metadata": {},
   "source": [
    "\n",
    "-   Create 1 new example that demonstrates you understand the problem. Trace/walkthrough 1 example that your partner made and explain it.\n"
   ]
  },
  {
   "cell_type": "code",
   "execution_count": null,
   "metadata": {},
   "outputs": [],
   "source": [
    "# Your answer here"
   ]
  },
  {
   "cell_type": "markdown",
   "metadata": {},
   "source": [
    "`input=[8,3,10,1,6,14,4,7,10]`\n",
    "\n",
    "- Start at the root (8): No duplicates so far.\n",
    "- Move to the left child (3): No duplicates so far.\n",
    "- Check left subtree of (3), node (1): No duplicates so far.\n",
    "- Check right subtree of (3), node (6): No duplicates so far.\n",
    "- Check left child of (6), node (4): No duplicates so far.\n",
    "- Check right child of (6), node (7): No duplicates so far.\n",
    "- Move to the right child of the root (10): No duplicates so far.\n",
    "- Check right subtree of (10), node (14): No duplicates so far.\n",
    "- Check left subtree of (14), node (10): Duplicate is found, return 10."
   ]
  },
  {
   "cell_type": "markdown",
   "metadata": {},
   "source": [
    "\n",
    "-   Copy the solution your partner wrote. \n"
   ]
  },
  {
   "cell_type": "code",
   "execution_count": null,
   "metadata": {},
   "outputs": [],
   "source": [
    "# Your answer here\n",
    "class TreeNode(object):\n",
    "    def __init__(self, val=0, left=None, right=None):\n",
    "        self.val = val\n",
    "        self.left = left\n",
    "        self.right = right\n",
    "\n",
    "def is_duplicate(root: TreeNode) -> int:\n",
    "    if not root:\n",
    "        return -1\n",
    "\n",
    "    seen_values = set()\n",
    "    return dfs(root, seen_values)\n",
    "\n",
    "def dfs(node: TreeNode, seen_values: set) -> int:\n",
    "    if not node:\n",
    "        return -1\n",
    "    \n",
    "    # Check if the current node's value is a duplicate\n",
    "    if node.val in seen_values:\n",
    "        return node.val\n",
    "    seen_values.add(node.val)\n",
    "    \n",
    "    # Traverse the left and right subtrees\n",
    "    left_result = dfs(node.left, seen_values)\n",
    "    if left_result != -1:\n",
    "        return left_result\n",
    "    \n",
    "    return dfs(node.right, seen_values)"
   ]
  },
  {
   "cell_type": "markdown",
   "metadata": {},
   "source": [
    "\n",
    "-   Explain why their solution works in your own words.\n"
   ]
  },
  {
   "cell_type": "markdown",
   "metadata": {},
   "source": [
    "The provided solution works for identifying the first duplicate value in a binary tree that is closest to the root because it systematically explores the tree using depth-first search (DFS) while keeping track of seen values. Here's a breakdown of how it works:\n",
    "\n",
    "- TreeNode Class: Defines the structure of each node in the binary tree, including its value (val) and pointers to its left and right children.\n",
    "\n",
    "- is_duplicate Function: This is the main function that initiates the process. It checks if the root is None (i.e., the tree is empty) and returns -1 in that case, indicating no duplicates. If the tree is not empty, it calls the dfs function, passing the root node and an empty set (seen_values) to track the values seen so far during the traversal.\n",
    "\n",
    "- dfs Function: This recursive function performs depth-first search on the binary tree. It takes a node and the set of seen values as arguments. The base case for the recursion is when the node is None, at which point it returns -1, indicating no duplicate found in the current path.\n",
    "\n",
    "- Duplicate Check: For each node visited, the function checks if the node's value is already in the seen_values set. If it is, this means a duplicate has been found, and the function immediately returns the duplicate value. This ensures that the first duplicate encountered (closest to the root due to DFS) is returned.\n",
    "\n",
    "- Recursion for Left and Right Subtrees: If the current node's value is not a duplicate, it is added to the seen_values set, and the function recursively explores the left subtree. If the left subtree call returns a value other than -1, it means a duplicate was found in the left subtree, and this value is returned immediately without checking the right subtree. This prioritizes duplicates closer to the root on the left side. If no duplicate is found in the left subtree, the function then recursively explores the right subtree.\n",
    "\n",
    "- Returning the Result: The function returns the first duplicate value found (if any). If no duplicates are found in the entire tree, the function returns -1.\n",
    "\n",
    "This solution effectively finds the first duplicate value in a binary tree by leveraging the depth-first search strategy, ensuring that the search prioritizes nodes closer to the root and efficiently tracks seen values to identify duplicates."
   ]
  },
  {
   "cell_type": "markdown",
   "metadata": {},
   "source": [
    "\n",
    "-   Explain the problem’s time and space complexity in your own words.\n"
   ]
  },
  {
   "cell_type": "markdown",
   "metadata": {},
   "source": [
    "- Time Complexity: O(n) - Regardless of whether DFS or BFS is used, each node in the binary tree is visited exactly once to check for duplicates. \n",
    "- Space Complexity: In the worst case (a completely unbalanced tree), this could be O(n). However, for a balanced tree, it would be O(log n)."
   ]
  },
  {
   "cell_type": "markdown",
   "metadata": {},
   "source": [
    "\n",
    "-   Critique your partner's solution, including explanation, and if there is anything that should be adjusted.\n"
   ]
  },
  {
   "cell_type": "markdown",
   "metadata": {},
   "source": [
    "The explanation provided outlines a solid approach for finding the first duplicate value in a binary tree that is closest to the root. However, there are always areas where efficiency or clarity could potentially be improved, depending on the specific implementation details which were not provided. \n",
    "\n",
    "The described approach does a depth-first search (DFS) and stops the search as soon as a duplicate is found. This is efficient in scenarios where duplicates are close to the root. However, ensuring that the search stops immediately after finding the first duplicate (without unnecessary traversals) is crucial. This can be further optimized by checking if a duplicate has been found before making recursive calls."
   ]
  },
  {
   "cell_type": "markdown",
   "metadata": {},
   "source": [
    "\n",
    "## Part 3:\n",
    "\n",
    "Please write a 200 word reflection documenting your process from assignment 1, and your presentation and review experience with your partner at the bottom of the Jupyter Notebook under a new heading \"Reflection.\" Again, export this Notebook as pdf.\n"
   ]
  },
  {
   "cell_type": "markdown",
   "metadata": {},
   "source": [
    "### Reflection"
   ]
  },
  {
   "cell_type": "markdown",
   "metadata": {},
   "source": [
    "Reflecting on Assignment 1, where I was tackled question number two, the journey from understanding the problem to devising a solution was both challenging and enlightening. Initially, the problem statement seemed daunting; however, reviewing the class recordings, and breaking it down into smaller step by step solutions, made it into manageable tasks and made the whole process more approachable. Implementing the solution also required refreshing python concepts, which was beneficial. The iterative process of writing, testing, and refining the code for the assignment was a tedious but rewarding, as each iteration brought me closer to a more efficient and elegant solution.\n",
    "\n",
    "Evaluating my partner's assignment, which focused on a different question, was equally beneficial. It exposed me to alternative problem-solving approaches and coding styles. This exercise sharpened my analytical skills, as I had to critically assess the code's efficiency and readability, suggesting improvements where necessary. The process of reviewing someone else's work also reinforced the importance of writing clear, maintainable code.\n",
    "\n",
    "Overall, both Assingment 1 and Assignment 2 was a comprehensive learning experience. It not only reinforced the technical skills required for solving complex problems but also highlighted the value of working within a repo of a potential partner colleague which reinforces a continuous improvement in the learning process."
   ]
  },
  {
   "cell_type": "markdown",
   "metadata": {},
   "source": [
    "\n",
    "## Evaluation Criteria\n",
    "\n",
    "We are looking for the similar points as Assignment 1\n",
    "\n",
    "-   Problem is accurately stated\n",
    "\n",
    "-   New example is correct and easily understandable\n",
    "\n",
    "-   Correctness, time, and space complexity of the coding solution\n",
    "\n",
    "-   Clarity in explaining why the solution works, its time and space complexity\n",
    "\n",
    "-   Quality of critique of your partner's assignment, if necessary\n"
   ]
  },
  {
   "cell_type": "markdown",
   "metadata": {},
   "source": [
    "## Submission Information\n",
    "\n",
    "🚨 **Please review our [Assignment Submission Guide](https://github.com/UofT-DSI/onboarding/blob/main/onboarding_documents/submissions.md)** 🚨 for detailed instructions on how to format, branch, and submit your work. Following these guidelines is crucial for your submissions to be evaluated correctly.\n",
    "\n",
    "### Submission Parameters:\n",
    "* Submission Due Date: `HH:MM AM/PM - DD/MM/YYYY`\n",
    "* The branch name for your repo should be: `assignment-2`\n",
    "* What to submit for this assignment:\n",
    "    * This Jupyter Notebook (assignment_2.ipynb) should be populated and should be the only change in your pull request.\n",
    "* What the pull request link should look like for this assignment: `https://github.com/<your_github_username>/algorithms_and_data_structures/pull/<pr_id>`\n",
    "    * Open a private window in your browser. Copy and paste the link to your pull request into the address bar. Make sure you can see your pull request properly. This helps the technical facilitator and learning support staff review your submission easily.\n",
    "\n",
    "Checklist:\n",
    "- [X] Created a branch with the correct naming convention.\n",
    "- [X] Ensured that the repository is public.\n",
    "- [X] Reviewed the PR description guidelines and adhered to them.\n",
    "- [X] Verify that the link is accessible in a private browser window.\n",
    "\n",
    "If you encounter any difficulties or have questions, please don't hesitate to reach out to our team via our Slack at `#cohort-3-help`. Our Technical Facilitators and Learning Support staff are here to help you navigate any challenges.\n"
   ]
  }
 ],
 "metadata": {
  "language_info": {
   "name": "python"
  }
 },
 "nbformat": 4,
 "nbformat_minor": 2
}
